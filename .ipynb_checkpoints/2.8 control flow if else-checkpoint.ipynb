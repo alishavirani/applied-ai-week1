{
 "cells": [
  {
   "cell_type": "code",
   "execution_count": 9,
   "metadata": {},
   "outputs": [
    {
     "name": "stdout",
     "output_type": "stream",
     "text": [
      "Number is 10\n",
      "This will always print\n"
     ]
    }
   ],
   "source": [
    "num = 10\n",
    "\n",
    "if num == 10:\n",
    "    print(\"Number is 10\")\n",
    "print(\"This will always print\")\n"
   ]
  },
  {
   "cell_type": "code",
   "execution_count": 2,
   "metadata": {},
   "outputs": [],
   "source": [
    "#falsy values are 0, None and False"
   ]
  },
  {
   "cell_type": "code",
   "execution_count": 10,
   "metadata": {},
   "outputs": [
    {
     "name": "stdout",
     "output_type": "stream",
     "text": [
      "positive no\n"
     ]
    }
   ],
   "source": [
    "num = 10\n",
    "if num > 0:\n",
    "    print(\"positive no\")\n",
    "else:\n",
    "    print(\"negative\")"
   ]
  },
  {
   "cell_type": "code",
   "execution_count": 14,
   "metadata": {},
   "outputs": [
    {
     "name": "stdout",
     "output_type": "stream",
     "text": [
      "negative\n"
     ]
    }
   ],
   "source": [
    "num = -5\n",
    "if num > 0:\n",
    "    print(\"positive no\")\n",
    "elif num == 0:\n",
    "    print(\"ZERO\")\n",
    "else:\n",
    "    print(\"negative\")"
   ]
  },
  {
   "cell_type": "code",
   "execution_count": 17,
   "metadata": {},
   "outputs": [
    {
     "name": "stdout",
     "output_type": "stream",
     "text": [
      "50\n"
     ]
    }
   ],
   "source": [
    "#program to find the largest no among 3 nos\n",
    "\n",
    "num1 = 10\n",
    "num2 = 50\n",
    "num3 = 15\n",
    "\n",
    "if (num1 >= num2) and (num1 >= num3):\n",
    "    largest = num1\n",
    "elif (num2 >= num1) and (num2 >= num3):\n",
    "    largest = num2\n",
    "else:\n",
    "    largest = num3\n",
    "print(largest)"
   ]
  },
  {
   "cell_type": "code",
   "execution_count": null,
   "metadata": {},
   "outputs": [],
   "source": []
  }
 ],
 "metadata": {
  "kernelspec": {
   "display_name": "Python 3",
   "language": "python",
   "name": "python3"
  },
  "language_info": {
   "codemirror_mode": {
    "name": "ipython",
    "version": 3
   },
   "file_extension": ".py",
   "mimetype": "text/x-python",
   "name": "python",
   "nbconvert_exporter": "python",
   "pygments_lexer": "ipython3",
   "version": "3.8.5"
  }
 },
 "nbformat": 4,
 "nbformat_minor": 4
}
