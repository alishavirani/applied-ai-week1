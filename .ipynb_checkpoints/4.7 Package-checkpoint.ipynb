{
 "cells": [
  {
   "cell_type": "code",
   "execution_count": 1,
   "metadata": {},
   "outputs": [],
   "source": [
    "#packages are a way of structuring python module namesapce by using dotted module names\n",
    "#logical way of grouping modules into folders\n",
    "#a directory myst contain a file named init.py in order to consider it as a package. It can be empty but we can place\n",
    "#intialization code for that package in this file\n",
    "#packages are arranged in folders"
   ]
  },
  {
   "cell_type": "code",
   "execution_count": 2,
   "metadata": {},
   "outputs": [
    {
     "ename": "IndentationError",
     "evalue": "unexpected indent (<ipython-input-2-6fb43389bbf8>, line 5)",
     "output_type": "error",
     "traceback": [
      "\u001b[1;36m  File \u001b[1;32m\"<ipython-input-2-6fb43389bbf8>\"\u001b[1;36m, line \u001b[1;32m5\u001b[0m\n\u001b[1;33m    Sound (Folder)\u001b[0m\n\u001b[1;37m    ^\u001b[0m\n\u001b[1;31mIndentationError\u001b[0m\u001b[1;31m:\u001b[0m unexpected indent\n"
     ]
    }
   ],
   "source": [
    "#Package (Directory Structure)\n",
    "Game (Folder)\n",
    "__init__.py\n",
    "    #sub-package:\n",
    "    Sound (Folder)\n",
    "        __init__.py\n",
    "        load.py #module\n",
    "        play.py #module\n",
    "        pause.py #module\n",
    "    Image (Folder)\n",
    "        __init__.py\n",
    "        open.py #module\n",
    "        change.py #module\n",
    "        close.py #module\n",
    "    Level (Folder)\n",
    "        __init__.py\n",
    "        start.py #module\n",
    "        load.py #module\n",
    "        over.py #module"
   ]
  },
  {
   "cell_type": "code",
   "execution_count": 3,
   "metadata": {},
   "outputs": [],
   "source": [
    "#load/open open.py"
   ]
  },
  {
   "cell_type": "code",
   "execution_count": null,
   "metadata": {},
   "outputs": [],
   "source": [
    "impor Game.Image.open"
   ]
  }
 ],
 "metadata": {
  "kernelspec": {
   "display_name": "Python 3",
   "language": "python",
   "name": "python3"
  },
  "language_info": {
   "codemirror_mode": {
    "name": "ipython",
    "version": 3
   },
   "file_extension": ".py",
   "mimetype": "text/x-python",
   "name": "python",
   "nbconvert_exporter": "python",
   "pygments_lexer": "ipython3",
   "version": "3.8.5"
  }
 },
 "nbformat": 4,
 "nbformat_minor": 4
}
