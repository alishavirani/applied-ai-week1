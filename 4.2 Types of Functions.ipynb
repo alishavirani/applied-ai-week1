{
 "cells": [
  {
   "cell_type": "code",
   "execution_count": 1,
   "metadata": {},
   "outputs": [],
   "source": [
    "#2 types of functions\n",
    "#built-in\n",
    "#user defined"
   ]
  },
  {
   "cell_type": "code",
   "execution_count": 2,
   "metadata": {},
   "outputs": [],
   "source": [
    "#built in"
   ]
  },
  {
   "cell_type": "code",
   "execution_count": 3,
   "metadata": {},
   "outputs": [
    {
     "data": {
      "text/plain": [
       "100"
      ]
     },
     "execution_count": 3,
     "metadata": {},
     "output_type": "execute_result"
    }
   ],
   "source": [
    "abs(-100)"
   ]
  },
  {
   "cell_type": "code",
   "execution_count": 7,
   "metadata": {},
   "outputs": [],
   "source": [
    "#all function\n",
    "#returns True if all elements in an iterable are True\n",
    "#iterables are the data structures on which we can iterate(for loop). eg list, tuple\n",
    "#falsy values are 0, False, None"
   ]
  },
  {
   "cell_type": "code",
   "execution_count": 38,
   "metadata": {},
   "outputs": [
    {
     "name": "stdout",
     "output_type": "stream",
     "text": [
      "True\n",
      "True\n",
      "False\n",
      "True\n",
      "False\n",
      "False\n"
     ]
    }
   ],
   "source": [
    "print(all([1,2,3,4,5]))\n",
    "\n",
    "lst = (1,3,4,5)\n",
    "print(all(lst))\n",
    "\n",
    "lst = (0,1,3,4,5) #0 present in list, therefore returns False\n",
    "print(all(lst))\n",
    "\n",
    "lst = []\n",
    "print(all(lst)) #empty list always true\n",
    "\n",
    "lst = [False, 1,2] #False present in list, therefore returns False\n",
    "print(all(lst))\n",
    "\n",
    "lst = [None, 1,2] #None present in list, therefore returns False\n",
    "print(all(lst))"
   ]
  },
  {
   "cell_type": "code",
   "execution_count": 16,
   "metadata": {},
   "outputs": [
    {
     "name": "stdout",
     "output_type": "stream",
     "text": [
      "['__add__', '__class__', '__contains__', '__delattr__', '__delitem__', '__dir__', '__doc__', '__eq__', '__format__', '__ge__', '__getattribute__', '__getitem__', '__gt__', '__hash__', '__iadd__', '__imul__', '__init__', '__init_subclass__', '__iter__', '__le__', '__len__', '__lt__', '__mul__', '__ne__', '__new__', '__reduce__', '__reduce_ex__', '__repr__', '__reversed__', '__rmul__', '__setattr__', '__setitem__', '__sizeof__', '__str__', '__subclasshook__', 'append', 'clear', 'copy', 'count', 'extend', 'index', 'insert', 'pop', 'remove', 'reverse', 'sort']\n"
     ]
    }
   ],
   "source": [
    "nums = [1,2,3]\n",
    "print(dir(nums)) #list of attributes for the list datastructure"
   ]
  },
  {
   "cell_type": "code",
   "execution_count": 17,
   "metadata": {},
   "outputs": [
    {
     "data": {
      "text/plain": [
       "(4, 1)"
      ]
     },
     "execution_count": 17,
     "metadata": {},
     "output_type": "execute_result"
    }
   ],
   "source": [
    "divmod(9,2) #returns a tuple of quotient, remainder"
   ]
  },
  {
   "cell_type": "code",
   "execution_count": null,
   "metadata": {},
   "outputs": [],
   "source": [
    "#enumerate(iterable, start=0) start is the starting index value, default is 0"
   ]
  },
  {
   "cell_type": "code",
   "execution_count": 22,
   "metadata": {},
   "outputs": [
    {
     "name": "stdout",
     "output_type": "stream",
     "text": [
      "5 10\n",
      "6 20\n",
      "7 30\n",
      "8 40\n",
      "9 50\n"
     ]
    }
   ],
   "source": [
    "nos = [10,20,30,40,50]\n",
    "\n",
    "for index, num in enumerate(nos, 5): #numerate means to list\n",
    "    print(index, num)"
   ]
  },
  {
   "cell_type": "code",
   "execution_count": 23,
   "metadata": {},
   "outputs": [],
   "source": [
    "# filter(name_of_function, list)"
   ]
  },
  {
   "cell_type": "code",
   "execution_count": 24,
   "metadata": {},
   "outputs": [],
   "source": [
    "def find_positive_num(num):\n",
    "    if num > 0:\n",
    "        return num"
   ]
  },
  {
   "cell_type": "code",
   "execution_count": 25,
   "metadata": {},
   "outputs": [
    {
     "data": {
      "text/plain": [
       "[1, 2, 3, 4, 5, 6, 7, 8, 9]"
      ]
     },
     "execution_count": 25,
     "metadata": {},
     "output_type": "execute_result"
    }
   ],
   "source": [
    "num_list = range(-10,10)\n",
    "\n",
    "positive_num_list = list(filter(find_positive_num, num_list))\n",
    "positive_num_list"
   ]
  },
  {
   "cell_type": "code",
   "execution_count": 26,
   "metadata": {},
   "outputs": [],
   "source": [
    " # isintance(object, classinfo)"
   ]
  },
  {
   "cell_type": "code",
   "execution_count": 27,
   "metadata": {},
   "outputs": [
    {
     "name": "stdout",
     "output_type": "stream",
     "text": [
      "True\n",
      "True\n"
     ]
    }
   ],
   "source": [
    "lst = [1,2,3,4,5]\n",
    "print(isinstance(lst, list))\n",
    "\n",
    "t = (1,2,3,4)\n",
    "print(isinstance(t, tuple))"
   ]
  },
  {
   "cell_type": "code",
   "execution_count": 28,
   "metadata": {},
   "outputs": [],
   "source": [
    "# map(function_name, list)"
   ]
  },
  {
   "cell_type": "code",
   "execution_count": 29,
   "metadata": {},
   "outputs": [
    {
     "data": {
      "text/plain": [
       "[1, 4, 9, 16]"
      ]
     },
     "execution_count": 29,
     "metadata": {},
     "output_type": "execute_result"
    }
   ],
   "source": [
    "nos = [1,2,3,4]\n",
    "\n",
    "squared = []\n",
    "for num in nos:\n",
    "    squared.append(num ** 2)\n",
    "squared"
   ]
  },
  {
   "cell_type": "code",
   "execution_count": 30,
   "metadata": {},
   "outputs": [
    {
     "data": {
      "text/plain": [
       "[1, 4, 9, 16]"
      ]
     },
     "execution_count": 30,
     "metadata": {},
     "output_type": "execute_result"
    }
   ],
   "source": [
    "nos = [1,2,3,4]\n",
    "\n",
    "def power_of_two(num):\n",
    "    return num ** 2\n",
    "\n",
    "squared = list(map(power_of_two, nos))\n",
    "squared"
   ]
  },
  {
   "cell_type": "code",
   "execution_count": 31,
   "metadata": {},
   "outputs": [],
   "source": [
    "# reduce(function_name, list)\n",
    "# reduce applies the function from one element to another element consequtively\n",
    "#it applies a rolling computation to sequential pairs of values in a list"
   ]
  },
  {
   "cell_type": "code",
   "execution_count": 32,
   "metadata": {},
   "outputs": [
    {
     "data": {
      "text/plain": [
       "24"
      ]
     },
     "execution_count": 32,
     "metadata": {},
     "output_type": "execute_result"
    }
   ],
   "source": [
    "nos = [1,2,3,4]\n",
    "product = 1\n",
    "\n",
    "for no in nos:\n",
    "    product *= no\n",
    "    \n",
    "product"
   ]
  },
  {
   "cell_type": "code",
   "execution_count": 34,
   "metadata": {},
   "outputs": [
    {
     "data": {
      "text/plain": [
       "24"
      ]
     },
     "execution_count": 34,
     "metadata": {},
     "output_type": "execute_result"
    }
   ],
   "source": [
    "from functools import reduce\n",
    "\n",
    "lst = [1,2,3,4]\n",
    "\n",
    "def multiply(x,y):\n",
    "    return x*y\n",
    "\n",
    "product = reduce(multiply, lst) \n",
    "#reduce first multiplies 1*2, then uses the product of 1*2=2 and multiplies it with 3\n",
    "#now the product of 2*3=6 is multiplied with 4\n",
    "product"
   ]
  },
  {
   "cell_type": "code",
   "execution_count": 35,
   "metadata": {},
   "outputs": [],
   "source": [
    "#user defined functions"
   ]
  },
  {
   "cell_type": "code",
   "execution_count": 36,
   "metadata": {},
   "outputs": [],
   "source": [
    "#program for a simple calc (add, subtract, multiply, divide)"
   ]
  },
  {
   "cell_type": "code",
   "execution_count": 37,
   "metadata": {},
   "outputs": [
    {
     "name": "stdout",
     "output_type": "stream",
     "text": [
      "Select Option\n",
      "1 Addition\n",
      "2 Subtraction\n",
      "3 Multiplication\n",
      "4 Division\n",
      "Enter choice 1/2/3/42\n",
      "Enter 1st number50\n",
      "Enter 2nd number20\n",
      "Subtraction of 50.0 and 20.0 is 30.0\n"
     ]
    }
   ],
   "source": [
    "def add(a,b):\n",
    "    '''This function adds two numbers\n",
    "    '''\n",
    "    return a+b\n",
    "\n",
    "def subtract(a,b):\n",
    "    '''This function subtracts two numbers\n",
    "    '''\n",
    "    return a-b\n",
    "\n",
    "def multiply(a,b):\n",
    "    '''This function multiplies two numbers\n",
    "    '''\n",
    "    return a*b\n",
    "\n",
    "def divide(a,b):\n",
    "    '''This function divides two numbers\n",
    "    '''\n",
    "    return a/b\n",
    "\n",
    "print(\"Select Option\")\n",
    "print(\"1 Addition\")\n",
    "print(\"2 Subtraction\")\n",
    "print(\"3 Multiplication\")\n",
    "print(\"4 Division\")\n",
    "\n",
    "choice = int(input(\"Enter choice 1/2/3/4\"))\n",
    "num1 = float(input(\"Enter 1st number\"))\n",
    "num2 = float(input(\"Enter 2nd number\"))\n",
    "\n",
    "if choice == 1:\n",
    "    print(\"Addition of {0} and {1} is {2}\".format(num1, num2, add(num1, num2)))\n",
    "elif choice == 2:\n",
    "     print(\"Subtraction of {0} and {1} is {2}\".format(num1, num2, subtract(num1, num2)))\n",
    "elif choice == 3:\n",
    "    print(\"Multiplication of {0} and {1} is {2}\".format(num1, num2, multiply(num1, num2)))\n",
    "elif choice == 4:\n",
    "    print(\"Division of {0} and {1} is {2}\".format(num1, num2, divide(num1, num2)))\n",
    "else:\n",
    "    print(\"Invalid choice\")"
   ]
  }
 ],
 "metadata": {
  "kernelspec": {
   "display_name": "Python 3",
   "language": "python",
   "name": "python3"
  },
  "language_info": {
   "codemirror_mode": {
    "name": "ipython",
    "version": 3
   },
   "file_extension": ".py",
   "mimetype": "text/x-python",
   "name": "python",
   "nbconvert_exporter": "python",
   "pygments_lexer": "ipython3",
   "version": "3.8.5"
  }
 },
 "nbformat": 4,
 "nbformat_minor": 4
}