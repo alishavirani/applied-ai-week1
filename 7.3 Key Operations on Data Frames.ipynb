{
 "metadata": {
  "language_info": {
   "codemirror_mode": {
    "name": "ipython",
    "version": 3
   },
   "file_extension": ".py",
   "mimetype": "text/x-python",
   "name": "python",
   "nbconvert_exporter": "python",
   "pygments_lexer": "ipython3",
   "version": "3.8.5-final"
  },
  "orig_nbformat": 2,
  "kernelspec": {
   "name": "python3",
   "display_name": "Python 3",
   "language": "python"
  }
 },
 "nbformat": 4,
 "nbformat_minor": 2,
 "cells": [
  {
   "cell_type": "code",
   "execution_count": 1,
   "metadata": {},
   "outputs": [],
   "source": [
    "import pandas as pd"
   ]
  },
  {
   "cell_type": "code",
   "execution_count": 2,
   "metadata": {},
   "outputs": [
    {
     "output_type": "execute_result",
     "data": {
      "text/plain": [
       "        day  temperature  windspeed  event\n",
       "0  1/1/2017           32          6   Rain\n",
       "1  1/2/2017           35          7  Sunny\n",
       "2  1/3/2017           28          2   Snow\n",
       "3  1/4/2017           24          7   Snow\n",
       "4  1/5/2017           32          4   Rain\n",
       "5  1/6/2017           31          2  Sunny"
      ],
      "text/html": "<div>\n<style scoped>\n    .dataframe tbody tr th:only-of-type {\n        vertical-align: middle;\n    }\n\n    .dataframe tbody tr th {\n        vertical-align: top;\n    }\n\n    .dataframe thead th {\n        text-align: right;\n    }\n</style>\n<table border=\"1\" class=\"dataframe\">\n  <thead>\n    <tr style=\"text-align: right;\">\n      <th></th>\n      <th>day</th>\n      <th>temperature</th>\n      <th>windspeed</th>\n      <th>event</th>\n    </tr>\n  </thead>\n  <tbody>\n    <tr>\n      <th>0</th>\n      <td>1/1/2017</td>\n      <td>32</td>\n      <td>6</td>\n      <td>Rain</td>\n    </tr>\n    <tr>\n      <th>1</th>\n      <td>1/2/2017</td>\n      <td>35</td>\n      <td>7</td>\n      <td>Sunny</td>\n    </tr>\n    <tr>\n      <th>2</th>\n      <td>1/3/2017</td>\n      <td>28</td>\n      <td>2</td>\n      <td>Snow</td>\n    </tr>\n    <tr>\n      <th>3</th>\n      <td>1/4/2017</td>\n      <td>24</td>\n      <td>7</td>\n      <td>Snow</td>\n    </tr>\n    <tr>\n      <th>4</th>\n      <td>1/5/2017</td>\n      <td>32</td>\n      <td>4</td>\n      <td>Rain</td>\n    </tr>\n    <tr>\n      <th>5</th>\n      <td>1/6/2017</td>\n      <td>31</td>\n      <td>2</td>\n      <td>Sunny</td>\n    </tr>\n  </tbody>\n</table>\n</div>"
     },
     "metadata": {},
     "execution_count": 2
    }
   ],
   "source": [
    "df = pd.read_csv(\"weather_data.csv\")\n",
    "df"
   ]
  },
  {
   "cell_type": "code",
   "execution_count": 3,
   "metadata": {},
   "outputs": [
    {
     "output_type": "execute_result",
     "data": {
      "text/plain": [
       "        day  temperature  windspeed  event\n",
       "0  1/1/2017           32          6   Rain\n",
       "1  1/2/2017           35          7  Sunny\n",
       "2  1/3/2017           28          2   Snow\n",
       "3  1/4/2017           24          7   Snow\n",
       "4  1/5/2017           32          4   Rain\n",
       "5  1/6/2017           31          2  Sunny"
      ],
      "text/html": "<div>\n<style scoped>\n    .dataframe tbody tr th:only-of-type {\n        vertical-align: middle;\n    }\n\n    .dataframe tbody tr th {\n        vertical-align: top;\n    }\n\n    .dataframe thead th {\n        text-align: right;\n    }\n</style>\n<table border=\"1\" class=\"dataframe\">\n  <thead>\n    <tr style=\"text-align: right;\">\n      <th></th>\n      <th>day</th>\n      <th>temperature</th>\n      <th>windspeed</th>\n      <th>event</th>\n    </tr>\n  </thead>\n  <tbody>\n    <tr>\n      <th>0</th>\n      <td>1/1/2017</td>\n      <td>32</td>\n      <td>6</td>\n      <td>Rain</td>\n    </tr>\n    <tr>\n      <th>1</th>\n      <td>1/2/2017</td>\n      <td>35</td>\n      <td>7</td>\n      <td>Sunny</td>\n    </tr>\n    <tr>\n      <th>2</th>\n      <td>1/3/2017</td>\n      <td>28</td>\n      <td>2</td>\n      <td>Snow</td>\n    </tr>\n    <tr>\n      <th>3</th>\n      <td>1/4/2017</td>\n      <td>24</td>\n      <td>7</td>\n      <td>Snow</td>\n    </tr>\n    <tr>\n      <th>4</th>\n      <td>1/5/2017</td>\n      <td>32</td>\n      <td>4</td>\n      <td>Rain</td>\n    </tr>\n    <tr>\n      <th>5</th>\n      <td>1/6/2017</td>\n      <td>31</td>\n      <td>2</td>\n      <td>Sunny</td>\n    </tr>\n  </tbody>\n</table>\n</div>"
     },
     "metadata": {},
     "execution_count": 3
    }
   ],
   "source": [
    "#read excel file\n",
    "df = pd.read_excel('weather_data.xlsx')\n",
    "df #the indexes here are 0,1,2,3,4,5"
   ]
  },
  {
   "cell_type": "code",
   "execution_count": null,
   "metadata": {},
   "outputs": [],
   "source": [
    "#for every data frame, pd creates an index column starting from 0, by default row numbers are default indexes"
   ]
  },
  {
   "cell_type": "code",
   "execution_count": 5,
   "metadata": {},
   "outputs": [],
   "source": [
    "#write to a csv file\n",
    "df.to_csv('new.csv') #stores the index\n",
    "\n",
    "df.to_csv('new_noindex.csv', index=False)"
   ]
  },
  {
   "cell_type": "code",
   "execution_count": 6,
   "metadata": {},
   "outputs": [],
   "source": [
    "df.to_excel('new.xlsx',sheet_name=\"weather_data\")"
   ]
  },
  {
   "cell_type": "code",
   "execution_count": 7,
   "metadata": {},
   "outputs": [],
   "source": [
    "#Group by"
   ]
  },
  {
   "cell_type": "code",
   "execution_count": 8,
   "metadata": {},
   "outputs": [
    {
     "output_type": "execute_result",
     "data": {
      "text/plain": [
       "         day      city  temperature  windspeed   event\n",
       "0   1/1/2017  new york           32          6    Rain\n",
       "1   1/2/2017  new york           36          7   Sunny\n",
       "2   1/3/2017  new york           28         12    Snow\n",
       "3   1/4/2017  new york           33          7   Sunny\n",
       "4   1/1/2017    mumbai           90          5   Sunny\n",
       "5   1/2/2017    mumbai           85         12     Fog\n",
       "6   1/3/2017    mumbai           87         15     Fog\n",
       "7   1/4/2017    mumbai           92          5    Rain\n",
       "8   1/1/2017     paris           45         20   Sunny\n",
       "9   1/2/2017     paris           50         13  Cloudy\n",
       "10  1/3/2017     paris           54          8  Cloudy\n",
       "11  1/4/2017     paris           42         10  Cloudy"
      ],
      "text/html": "<div>\n<style scoped>\n    .dataframe tbody tr th:only-of-type {\n        vertical-align: middle;\n    }\n\n    .dataframe tbody tr th {\n        vertical-align: top;\n    }\n\n    .dataframe thead th {\n        text-align: right;\n    }\n</style>\n<table border=\"1\" class=\"dataframe\">\n  <thead>\n    <tr style=\"text-align: right;\">\n      <th></th>\n      <th>day</th>\n      <th>city</th>\n      <th>temperature</th>\n      <th>windspeed</th>\n      <th>event</th>\n    </tr>\n  </thead>\n  <tbody>\n    <tr>\n      <th>0</th>\n      <td>1/1/2017</td>\n      <td>new york</td>\n      <td>32</td>\n      <td>6</td>\n      <td>Rain</td>\n    </tr>\n    <tr>\n      <th>1</th>\n      <td>1/2/2017</td>\n      <td>new york</td>\n      <td>36</td>\n      <td>7</td>\n      <td>Sunny</td>\n    </tr>\n    <tr>\n      <th>2</th>\n      <td>1/3/2017</td>\n      <td>new york</td>\n      <td>28</td>\n      <td>12</td>\n      <td>Snow</td>\n    </tr>\n    <tr>\n      <th>3</th>\n      <td>1/4/2017</td>\n      <td>new york</td>\n      <td>33</td>\n      <td>7</td>\n      <td>Sunny</td>\n    </tr>\n    <tr>\n      <th>4</th>\n      <td>1/1/2017</td>\n      <td>mumbai</td>\n      <td>90</td>\n      <td>5</td>\n      <td>Sunny</td>\n    </tr>\n    <tr>\n      <th>5</th>\n      <td>1/2/2017</td>\n      <td>mumbai</td>\n      <td>85</td>\n      <td>12</td>\n      <td>Fog</td>\n    </tr>\n    <tr>\n      <th>6</th>\n      <td>1/3/2017</td>\n      <td>mumbai</td>\n      <td>87</td>\n      <td>15</td>\n      <td>Fog</td>\n    </tr>\n    <tr>\n      <th>7</th>\n      <td>1/4/2017</td>\n      <td>mumbai</td>\n      <td>92</td>\n      <td>5</td>\n      <td>Rain</td>\n    </tr>\n    <tr>\n      <th>8</th>\n      <td>1/1/2017</td>\n      <td>paris</td>\n      <td>45</td>\n      <td>20</td>\n      <td>Sunny</td>\n    </tr>\n    <tr>\n      <th>9</th>\n      <td>1/2/2017</td>\n      <td>paris</td>\n      <td>50</td>\n      <td>13</td>\n      <td>Cloudy</td>\n    </tr>\n    <tr>\n      <th>10</th>\n      <td>1/3/2017</td>\n      <td>paris</td>\n      <td>54</td>\n      <td>8</td>\n      <td>Cloudy</td>\n    </tr>\n    <tr>\n      <th>11</th>\n      <td>1/4/2017</td>\n      <td>paris</td>\n      <td>42</td>\n      <td>10</td>\n      <td>Cloudy</td>\n    </tr>\n  </tbody>\n</table>\n</div>"
     },
     "metadata": {},
     "execution_count": 8
    }
   ],
   "source": [
    "df = pd.read_csv(\"weather_data_cities.csv\")\n",
    "df"
   ]
  },
  {
   "cell_type": "code",
   "execution_count": 9,
   "metadata": {},
   "outputs": [
    {
     "output_type": "execute_result",
     "data": {
      "text/plain": [
       "<pandas.core.groupby.generic.DataFrameGroupBy object at 0x0000021232203790>"
      ]
     },
     "metadata": {},
     "execution_count": 9
    }
   ],
   "source": [
    "#it groups all of the rows by citynames and makes groups for differnt cities\n",
    "g = df.groupby(\"city\")\n",
    "g"
   ]
  },
  {
   "cell_type": "code",
   "execution_count": 10,
   "metadata": {},
   "outputs": [
    {
     "output_type": "stream",
     "name": "stdout",
     "text": [
      "mumbai\n        day    city  temperature  windspeed  event\n4  1/1/2017  mumbai           90          5  Sunny\n5  1/2/2017  mumbai           85         12    Fog\n6  1/3/2017  mumbai           87         15    Fog\n7  1/4/2017  mumbai           92          5   Rain\nnew york\n        day      city  temperature  windspeed  event\n0  1/1/2017  new york           32          6   Rain\n1  1/2/2017  new york           36          7  Sunny\n2  1/3/2017  new york           28         12   Snow\n3  1/4/2017  new york           33          7  Sunny\nparis\n         day   city  temperature  windspeed   event\n8   1/1/2017  paris           45         20   Sunny\n9   1/2/2017  paris           50         13  Cloudy\n10  1/3/2017  paris           54          8  Cloudy\n11  1/4/2017  paris           42         10  Cloudy\n"
     ]
    }
   ],
   "source": [
    "#for each city there is a grouped df created\n",
    "#indices are intact, index is not equal to the row no\n",
    "for city, city_df in g:\n",
    "    print(city)\n",
    "    print(city_df)"
   ]
  },
  {
   "cell_type": "code",
   "execution_count": 11,
   "metadata": {},
   "outputs": [
    {
     "output_type": "execute_result",
     "data": {
      "text/plain": [
       "        day      city  temperature  windspeed  event\n",
       "0  1/1/2017  new york           32          6   Rain\n",
       "1  1/2/2017  new york           36          7  Sunny\n",
       "2  1/3/2017  new york           28         12   Snow\n",
       "3  1/4/2017  new york           33          7  Sunny"
      ],
      "text/html": "<div>\n<style scoped>\n    .dataframe tbody tr th:only-of-type {\n        vertical-align: middle;\n    }\n\n    .dataframe tbody tr th {\n        vertical-align: top;\n    }\n\n    .dataframe thead th {\n        text-align: right;\n    }\n</style>\n<table border=\"1\" class=\"dataframe\">\n  <thead>\n    <tr style=\"text-align: right;\">\n      <th></th>\n      <th>day</th>\n      <th>city</th>\n      <th>temperature</th>\n      <th>windspeed</th>\n      <th>event</th>\n    </tr>\n  </thead>\n  <tbody>\n    <tr>\n      <th>0</th>\n      <td>1/1/2017</td>\n      <td>new york</td>\n      <td>32</td>\n      <td>6</td>\n      <td>Rain</td>\n    </tr>\n    <tr>\n      <th>1</th>\n      <td>1/2/2017</td>\n      <td>new york</td>\n      <td>36</td>\n      <td>7</td>\n      <td>Sunny</td>\n    </tr>\n    <tr>\n      <th>2</th>\n      <td>1/3/2017</td>\n      <td>new york</td>\n      <td>28</td>\n      <td>12</td>\n      <td>Snow</td>\n    </tr>\n    <tr>\n      <th>3</th>\n      <td>1/4/2017</td>\n      <td>new york</td>\n      <td>33</td>\n      <td>7</td>\n      <td>Sunny</td>\n    </tr>\n  </tbody>\n</table>\n</div>"
     },
     "metadata": {},
     "execution_count": 11
    }
   ],
   "source": [
    "#get a specific group\n",
    "g.get_group(\"new york\")"
   ]
  },
  {
   "cell_type": "code",
   "execution_count": 12,
   "metadata": {},
   "outputs": [
    {
     "output_type": "execute_result",
     "data": {
      "text/plain": [
       "               day  temperature  windspeed  event\n",
       "city                                             \n",
       "mumbai    1/4/2017           92         15  Sunny\n",
       "new york  1/4/2017           36         12  Sunny\n",
       "paris     1/4/2017           54         20  Sunny"
      ],
      "text/html": "<div>\n<style scoped>\n    .dataframe tbody tr th:only-of-type {\n        vertical-align: middle;\n    }\n\n    .dataframe tbody tr th {\n        vertical-align: top;\n    }\n\n    .dataframe thead th {\n        text-align: right;\n    }\n</style>\n<table border=\"1\" class=\"dataframe\">\n  <thead>\n    <tr style=\"text-align: right;\">\n      <th></th>\n      <th>day</th>\n      <th>temperature</th>\n      <th>windspeed</th>\n      <th>event</th>\n    </tr>\n    <tr>\n      <th>city</th>\n      <th></th>\n      <th></th>\n      <th></th>\n      <th></th>\n    </tr>\n  </thead>\n  <tbody>\n    <tr>\n      <th>mumbai</th>\n      <td>1/4/2017</td>\n      <td>92</td>\n      <td>15</td>\n      <td>Sunny</td>\n    </tr>\n    <tr>\n      <th>new york</th>\n      <td>1/4/2017</td>\n      <td>36</td>\n      <td>12</td>\n      <td>Sunny</td>\n    </tr>\n    <tr>\n      <th>paris</th>\n      <td>1/4/2017</td>\n      <td>54</td>\n      <td>20</td>\n      <td>Sunny</td>\n    </tr>\n  </tbody>\n</table>\n</div>"
     },
     "metadata": {},
     "execution_count": 12
    }
   ],
   "source": [
    "#find max temp, windspeed (numerical values) in each of the cities\n",
    "g.max()"
   ]
  },
  {
   "cell_type": "code",
   "execution_count": 13,
   "metadata": {},
   "outputs": [
    {
     "output_type": "execute_result",
     "data": {
      "text/plain": [
       "          temperature  windspeed\n",
       "city                            \n",
       "mumbai          88.50       9.25\n",
       "new york        32.25       8.00\n",
       "paris           47.75      12.75"
      ],
      "text/html": "<div>\n<style scoped>\n    .dataframe tbody tr th:only-of-type {\n        vertical-align: middle;\n    }\n\n    .dataframe tbody tr th {\n        vertical-align: top;\n    }\n\n    .dataframe thead th {\n        text-align: right;\n    }\n</style>\n<table border=\"1\" class=\"dataframe\">\n  <thead>\n    <tr style=\"text-align: right;\">\n      <th></th>\n      <th>temperature</th>\n      <th>windspeed</th>\n    </tr>\n    <tr>\n      <th>city</th>\n      <th></th>\n      <th></th>\n    </tr>\n  </thead>\n  <tbody>\n    <tr>\n      <th>mumbai</th>\n      <td>88.50</td>\n      <td>9.25</td>\n    </tr>\n    <tr>\n      <th>new york</th>\n      <td>32.25</td>\n      <td>8.00</td>\n    </tr>\n    <tr>\n      <th>paris</th>\n      <td>47.75</td>\n      <td>12.75</td>\n    </tr>\n  </tbody>\n</table>\n</div>"
     },
     "metadata": {},
     "execution_count": 13
    }
   ],
   "source": [
    "#find the avg (of numerical attributes) temp, windspeed in each city\n",
    "g.mean()"
   ]
  },
  {
   "cell_type": "code",
   "execution_count": 14,
   "metadata": {},
   "outputs": [
    {
     "output_type": "execute_result",
     "data": {
      "text/plain": [
       "         temperature                                                   \\\n",
       "               count   mean       std   min    25%   50%    75%   max   \n",
       "city                                                                    \n",
       "mumbai           4.0  88.50  3.109126  85.0  86.50  88.5  90.50  92.0   \n",
       "new york         4.0  32.25  3.304038  28.0  31.00  32.5  33.75  36.0   \n",
       "paris            4.0  47.75  5.315073  42.0  44.25  47.5  51.00  54.0   \n",
       "\n",
       "         windspeed                                                 \n",
       "             count   mean       std  min   25%   50%    75%   max  \n",
       "city                                                               \n",
       "mumbai         4.0   9.25  5.057997  5.0  5.00   8.5  12.75  15.0  \n",
       "new york       4.0   8.00  2.708013  6.0  6.75   7.0   8.25  12.0  \n",
       "paris          4.0  12.75  5.251984  8.0  9.50  11.5  14.75  20.0  "
      ],
      "text/html": "<div>\n<style scoped>\n    .dataframe tbody tr th:only-of-type {\n        vertical-align: middle;\n    }\n\n    .dataframe tbody tr th {\n        vertical-align: top;\n    }\n\n    .dataframe thead tr th {\n        text-align: left;\n    }\n\n    .dataframe thead tr:last-of-type th {\n        text-align: right;\n    }\n</style>\n<table border=\"1\" class=\"dataframe\">\n  <thead>\n    <tr>\n      <th></th>\n      <th colspan=\"8\" halign=\"left\">temperature</th>\n      <th colspan=\"8\" halign=\"left\">windspeed</th>\n    </tr>\n    <tr>\n      <th></th>\n      <th>count</th>\n      <th>mean</th>\n      <th>std</th>\n      <th>min</th>\n      <th>25%</th>\n      <th>50%</th>\n      <th>75%</th>\n      <th>max</th>\n      <th>count</th>\n      <th>mean</th>\n      <th>std</th>\n      <th>min</th>\n      <th>25%</th>\n      <th>50%</th>\n      <th>75%</th>\n      <th>max</th>\n    </tr>\n    <tr>\n      <th>city</th>\n      <th></th>\n      <th></th>\n      <th></th>\n      <th></th>\n      <th></th>\n      <th></th>\n      <th></th>\n      <th></th>\n      <th></th>\n      <th></th>\n      <th></th>\n      <th></th>\n      <th></th>\n      <th></th>\n      <th></th>\n      <th></th>\n    </tr>\n  </thead>\n  <tbody>\n    <tr>\n      <th>mumbai</th>\n      <td>4.0</td>\n      <td>88.50</td>\n      <td>3.109126</td>\n      <td>85.0</td>\n      <td>86.50</td>\n      <td>88.5</td>\n      <td>90.50</td>\n      <td>92.0</td>\n      <td>4.0</td>\n      <td>9.25</td>\n      <td>5.057997</td>\n      <td>5.0</td>\n      <td>5.00</td>\n      <td>8.5</td>\n      <td>12.75</td>\n      <td>15.0</td>\n    </tr>\n    <tr>\n      <th>new york</th>\n      <td>4.0</td>\n      <td>32.25</td>\n      <td>3.304038</td>\n      <td>28.0</td>\n      <td>31.00</td>\n      <td>32.5</td>\n      <td>33.75</td>\n      <td>36.0</td>\n      <td>4.0</td>\n      <td>8.00</td>\n      <td>2.708013</td>\n      <td>6.0</td>\n      <td>6.75</td>\n      <td>7.0</td>\n      <td>8.25</td>\n      <td>12.0</td>\n    </tr>\n    <tr>\n      <th>paris</th>\n      <td>4.0</td>\n      <td>47.75</td>\n      <td>5.315073</td>\n      <td>42.0</td>\n      <td>44.25</td>\n      <td>47.5</td>\n      <td>51.00</td>\n      <td>54.0</td>\n      <td>4.0</td>\n      <td>12.75</td>\n      <td>5.251984</td>\n      <td>8.0</td>\n      <td>9.50</td>\n      <td>11.5</td>\n      <td>14.75</td>\n      <td>20.0</td>\n    </tr>\n  </tbody>\n</table>\n</div>"
     },
     "metadata": {},
     "execution_count": 14
    }
   ],
   "source": [
    "g.describe()"
   ]
  },
  {
   "cell_type": "code",
   "execution_count": 15,
   "metadata": {},
   "outputs": [],
   "source": [
    "#Concatenate dataframes"
   ]
  },
  {
   "cell_type": "code",
   "execution_count": 16,
   "metadata": {},
   "outputs": [
    {
     "output_type": "execute_result",
     "data": {
      "text/plain": [
       "        city  temperature  humidity\n",
       "0     mumbai           32        80\n",
       "1      delhi           45        60\n",
       "2  bangalore           30        78"
      ],
      "text/html": "<div>\n<style scoped>\n    .dataframe tbody tr th:only-of-type {\n        vertical-align: middle;\n    }\n\n    .dataframe tbody tr th {\n        vertical-align: top;\n    }\n\n    .dataframe thead th {\n        text-align: right;\n    }\n</style>\n<table border=\"1\" class=\"dataframe\">\n  <thead>\n    <tr style=\"text-align: right;\">\n      <th></th>\n      <th>city</th>\n      <th>temperature</th>\n      <th>humidity</th>\n    </tr>\n  </thead>\n  <tbody>\n    <tr>\n      <th>0</th>\n      <td>mumbai</td>\n      <td>32</td>\n      <td>80</td>\n    </tr>\n    <tr>\n      <th>1</th>\n      <td>delhi</td>\n      <td>45</td>\n      <td>60</td>\n    </tr>\n    <tr>\n      <th>2</th>\n      <td>bangalore</td>\n      <td>30</td>\n      <td>78</td>\n    </tr>\n  </tbody>\n</table>\n</div>"
     },
     "metadata": {},
     "execution_count": 16
    }
   ],
   "source": [
    "#create df using dictionary\n",
    "india_weather = pd.DataFrame({\n",
    "    \"city\": [\"mumbai\",\"delhi\",\"bangalore\"],\n",
    "    \"temperature\": [32,45,30],\n",
    "    \"humidity\": [80,60,78]\n",
    "})\n",
    "india_weather"
   ]
  },
  {
   "cell_type": "code",
   "execution_count": 17,
   "metadata": {},
   "outputs": [
    {
     "output_type": "execute_result",
     "data": {
      "text/plain": [
       "       city  temperature  humidity\n",
       "0  new york           21        68\n",
       "1   chicago           14        65\n",
       "2   orlando           35        75"
      ],
      "text/html": "<div>\n<style scoped>\n    .dataframe tbody tr th:only-of-type {\n        vertical-align: middle;\n    }\n\n    .dataframe tbody tr th {\n        vertical-align: top;\n    }\n\n    .dataframe thead th {\n        text-align: right;\n    }\n</style>\n<table border=\"1\" class=\"dataframe\">\n  <thead>\n    <tr style=\"text-align: right;\">\n      <th></th>\n      <th>city</th>\n      <th>temperature</th>\n      <th>humidity</th>\n    </tr>\n  </thead>\n  <tbody>\n    <tr>\n      <th>0</th>\n      <td>new york</td>\n      <td>21</td>\n      <td>68</td>\n    </tr>\n    <tr>\n      <th>1</th>\n      <td>chicago</td>\n      <td>14</td>\n      <td>65</td>\n    </tr>\n    <tr>\n      <th>2</th>\n      <td>orlando</td>\n      <td>35</td>\n      <td>75</td>\n    </tr>\n  </tbody>\n</table>\n</div>"
     },
     "metadata": {},
     "execution_count": 17
    }
   ],
   "source": [
    "#create df using dictionary\n",
    "us_weather = pd.DataFrame({\n",
    "    \"city\": [\"new york\",\"chicago\",\"orlando\"],\n",
    "    \"temperature\": [21,14,35],\n",
    "    \"humidity\": [68,65,75]\n",
    "})\n",
    "us_weather"
   ]
  },
  {
   "cell_type": "code",
   "execution_count": 18,
   "metadata": {},
   "outputs": [
    {
     "output_type": "execute_result",
     "data": {
      "text/plain": [
       "        city  temperature  humidity\n",
       "0     mumbai           32        80\n",
       "1      delhi           45        60\n",
       "2  bangalore           30        78\n",
       "0   new york           21        68\n",
       "1    chicago           14        65\n",
       "2    orlando           35        75"
      ],
      "text/html": "<div>\n<style scoped>\n    .dataframe tbody tr th:only-of-type {\n        vertical-align: middle;\n    }\n\n    .dataframe tbody tr th {\n        vertical-align: top;\n    }\n\n    .dataframe thead th {\n        text-align: right;\n    }\n</style>\n<table border=\"1\" class=\"dataframe\">\n  <thead>\n    <tr style=\"text-align: right;\">\n      <th></th>\n      <th>city</th>\n      <th>temperature</th>\n      <th>humidity</th>\n    </tr>\n  </thead>\n  <tbody>\n    <tr>\n      <th>0</th>\n      <td>mumbai</td>\n      <td>32</td>\n      <td>80</td>\n    </tr>\n    <tr>\n      <th>1</th>\n      <td>delhi</td>\n      <td>45</td>\n      <td>60</td>\n    </tr>\n    <tr>\n      <th>2</th>\n      <td>bangalore</td>\n      <td>30</td>\n      <td>78</td>\n    </tr>\n    <tr>\n      <th>0</th>\n      <td>new york</td>\n      <td>21</td>\n      <td>68</td>\n    </tr>\n    <tr>\n      <th>1</th>\n      <td>chicago</td>\n      <td>14</td>\n      <td>65</td>\n    </tr>\n    <tr>\n      <th>2</th>\n      <td>orlando</td>\n      <td>35</td>\n      <td>75</td>\n    </tr>\n  </tbody>\n</table>\n</div>"
     },
     "metadata": {},
     "execution_count": 18
    }
   ],
   "source": [
    "#concatenate 2 df\n",
    "df = pd.concat([india_weather, us_weather]) #copies indices of both dfs\n",
    "df"
   ]
  },
  {
   "cell_type": "code",
   "execution_count": 20,
   "metadata": {},
   "outputs": [
    {
     "output_type": "execute_result",
     "data": {
      "text/plain": [
       "        city  temperature  humidity\n",
       "0     mumbai           32        80\n",
       "1      delhi           45        60\n",
       "2  bangalore           30        78\n",
       "3   new york           21        68\n",
       "4    chicago           14        65\n",
       "5    orlando           35        75"
      ],
      "text/html": "<div>\n<style scoped>\n    .dataframe tbody tr th:only-of-type {\n        vertical-align: middle;\n    }\n\n    .dataframe tbody tr th {\n        vertical-align: top;\n    }\n\n    .dataframe thead th {\n        text-align: right;\n    }\n</style>\n<table border=\"1\" class=\"dataframe\">\n  <thead>\n    <tr style=\"text-align: right;\">\n      <th></th>\n      <th>city</th>\n      <th>temperature</th>\n      <th>humidity</th>\n    </tr>\n  </thead>\n  <tbody>\n    <tr>\n      <th>0</th>\n      <td>mumbai</td>\n      <td>32</td>\n      <td>80</td>\n    </tr>\n    <tr>\n      <th>1</th>\n      <td>delhi</td>\n      <td>45</td>\n      <td>60</td>\n    </tr>\n    <tr>\n      <th>2</th>\n      <td>bangalore</td>\n      <td>30</td>\n      <td>78</td>\n    </tr>\n    <tr>\n      <th>3</th>\n      <td>new york</td>\n      <td>21</td>\n      <td>68</td>\n    </tr>\n    <tr>\n      <th>4</th>\n      <td>chicago</td>\n      <td>14</td>\n      <td>65</td>\n    </tr>\n    <tr>\n      <th>5</th>\n      <td>orlando</td>\n      <td>35</td>\n      <td>75</td>\n    </tr>\n  </tbody>\n</table>\n</div>"
     },
     "metadata": {},
     "execution_count": 20
    }
   ],
   "source": [
    "df = pd.concat([india_weather, us_weather], ignore_index=True) #continous index\n",
    "df"
   ]
  },
  {
   "cell_type": "code",
   "execution_count": 21,
   "metadata": {},
   "outputs": [
    {
     "output_type": "execute_result",
     "data": {
      "text/plain": [
       "           0   1   2         3   4   5\n",
       "0     mumbai  32  80  new york  21  68\n",
       "1      delhi  45  60   chicago  14  65\n",
       "2  bangalore  30  78   orlando  35  75"
      ],
      "text/html": "<div>\n<style scoped>\n    .dataframe tbody tr th:only-of-type {\n        vertical-align: middle;\n    }\n\n    .dataframe tbody tr th {\n        vertical-align: top;\n    }\n\n    .dataframe thead th {\n        text-align: right;\n    }\n</style>\n<table border=\"1\" class=\"dataframe\">\n  <thead>\n    <tr style=\"text-align: right;\">\n      <th></th>\n      <th>0</th>\n      <th>1</th>\n      <th>2</th>\n      <th>3</th>\n      <th>4</th>\n      <th>5</th>\n    </tr>\n  </thead>\n  <tbody>\n    <tr>\n      <th>0</th>\n      <td>mumbai</td>\n      <td>32</td>\n      <td>80</td>\n      <td>new york</td>\n      <td>21</td>\n      <td>68</td>\n    </tr>\n    <tr>\n      <th>1</th>\n      <td>delhi</td>\n      <td>45</td>\n      <td>60</td>\n      <td>chicago</td>\n      <td>14</td>\n      <td>65</td>\n    </tr>\n    <tr>\n      <th>2</th>\n      <td>bangalore</td>\n      <td>30</td>\n      <td>78</td>\n      <td>orlando</td>\n      <td>35</td>\n      <td>75</td>\n    </tr>\n  </tbody>\n</table>\n</div>"
     },
     "metadata": {},
     "execution_count": 21
    }
   ],
   "source": [
    "df = pd.concat([india_weather, us_weather]\n",
    ", axis=1) #continous index, row wise concat\n",
    "df"
   ]
  },
  {
   "cell_type": "code",
   "execution_count": 22,
   "metadata": {},
   "outputs": [],
   "source": [
    "#Merging df (Join command in sql, which merges tables based on common columns)"
   ]
  },
  {
   "cell_type": "code",
   "execution_count": 23,
   "metadata": {},
   "outputs": [
    {
     "output_type": "execute_result",
     "data": {
      "text/plain": [
       "        city  temperature\n",
       "0     mumbai           32\n",
       "1      delhi           45\n",
       "2  bangalore           30\n",
       "3  hyderabad           40"
      ],
      "text/html": "<div>\n<style scoped>\n    .dataframe tbody tr th:only-of-type {\n        vertical-align: middle;\n    }\n\n    .dataframe tbody tr th {\n        vertical-align: top;\n    }\n\n    .dataframe thead th {\n        text-align: right;\n    }\n</style>\n<table border=\"1\" class=\"dataframe\">\n  <thead>\n    <tr style=\"text-align: right;\">\n      <th></th>\n      <th>city</th>\n      <th>temperature</th>\n    </tr>\n  </thead>\n  <tbody>\n    <tr>\n      <th>0</th>\n      <td>mumbai</td>\n      <td>32</td>\n    </tr>\n    <tr>\n      <th>1</th>\n      <td>delhi</td>\n      <td>45</td>\n    </tr>\n    <tr>\n      <th>2</th>\n      <td>bangalore</td>\n      <td>30</td>\n    </tr>\n    <tr>\n      <th>3</th>\n      <td>hyderabad</td>\n      <td>40</td>\n    </tr>\n  </tbody>\n</table>\n</div>"
     },
     "metadata": {},
     "execution_count": 23
    }
   ],
   "source": [
    "temperature_df = pd.DataFrame({\n",
    "    \"city\": [\"mumbai\",\"delhi\",\"bangalore\",\"hyderabad\"],\n",
    "    \"temperature\": [32,45,30,40],\n",
    "})\n",
    "temperature_df"
   ]
  },
  {
   "cell_type": "code",
   "execution_count": 25,
   "metadata": {},
   "outputs": [
    {
     "output_type": "execute_result",
     "data": {
      "text/plain": [
       "        city  humidity\n",
       "0     mumbai        68\n",
       "1      delhi        65\n",
       "2  bangalore        75"
      ],
      "text/html": "<div>\n<style scoped>\n    .dataframe tbody tr th:only-of-type {\n        vertical-align: middle;\n    }\n\n    .dataframe tbody tr th {\n        vertical-align: top;\n    }\n\n    .dataframe thead th {\n        text-align: right;\n    }\n</style>\n<table border=\"1\" class=\"dataframe\">\n  <thead>\n    <tr style=\"text-align: right;\">\n      <th></th>\n      <th>city</th>\n      <th>humidity</th>\n    </tr>\n  </thead>\n  <tbody>\n    <tr>\n      <th>0</th>\n      <td>mumbai</td>\n      <td>68</td>\n    </tr>\n    <tr>\n      <th>1</th>\n      <td>delhi</td>\n      <td>65</td>\n    </tr>\n    <tr>\n      <th>2</th>\n      <td>bangalore</td>\n      <td>75</td>\n    </tr>\n  </tbody>\n</table>\n</div>"
     },
     "metadata": {},
     "execution_count": 25
    }
   ],
   "source": [
    "humidity_df = pd.DataFrame({\n",
    "    \"city\": [\"mumbai\",\"delhi\",\"bangalore\"],\n",
    "    \"humidity\": [68,65,75],\n",
    "})\n",
    "humidity_df"
   ]
  },
  {
   "cell_type": "code",
   "execution_count": 26,
   "metadata": {},
   "outputs": [
    {
     "output_type": "execute_result",
     "data": {
      "text/plain": [
       "        city  temperature  humidity\n",
       "0     mumbai           32        68\n",
       "1      delhi           45        65\n",
       "2  bangalore           30        75"
      ],
      "text/html": "<div>\n<style scoped>\n    .dataframe tbody tr th:only-of-type {\n        vertical-align: middle;\n    }\n\n    .dataframe tbody tr th {\n        vertical-align: top;\n    }\n\n    .dataframe thead th {\n        text-align: right;\n    }\n</style>\n<table border=\"1\" class=\"dataframe\">\n  <thead>\n    <tr style=\"text-align: right;\">\n      <th></th>\n      <th>city</th>\n      <th>temperature</th>\n      <th>humidity</th>\n    </tr>\n  </thead>\n  <tbody>\n    <tr>\n      <th>0</th>\n      <td>mumbai</td>\n      <td>32</td>\n      <td>68</td>\n    </tr>\n    <tr>\n      <th>1</th>\n      <td>delhi</td>\n      <td>45</td>\n      <td>65</td>\n    </tr>\n    <tr>\n      <th>2</th>\n      <td>bangalore</td>\n      <td>30</td>\n      <td>75</td>\n    </tr>\n  </tbody>\n</table>\n</div>"
     },
     "metadata": {},
     "execution_count": 26
    }
   ],
   "source": [
    "#merge 2 df on city, drops the missing values which are not found in both the tables\n",
    "df = pd.merge(temperature_df, humidity_df, on=\"city\")\n",
    "df"
   ]
  },
  {
   "cell_type": "code",
   "execution_count": 27,
   "metadata": {},
   "outputs": [
    {
     "output_type": "execute_result",
     "data": {
      "text/plain": [
       "        city  temperature  humidity\n",
       "0     mumbai           32      68.0\n",
       "1      delhi           45      65.0\n",
       "2  bangalore           30      75.0\n",
       "3  hyderabad           40       NaN"
      ],
      "text/html": "<div>\n<style scoped>\n    .dataframe tbody tr th:only-of-type {\n        vertical-align: middle;\n    }\n\n    .dataframe tbody tr th {\n        vertical-align: top;\n    }\n\n    .dataframe thead th {\n        text-align: right;\n    }\n</style>\n<table border=\"1\" class=\"dataframe\">\n  <thead>\n    <tr style=\"text-align: right;\">\n      <th></th>\n      <th>city</th>\n      <th>temperature</th>\n      <th>humidity</th>\n    </tr>\n  </thead>\n  <tbody>\n    <tr>\n      <th>0</th>\n      <td>mumbai</td>\n      <td>32</td>\n      <td>68.0</td>\n    </tr>\n    <tr>\n      <th>1</th>\n      <td>delhi</td>\n      <td>45</td>\n      <td>65.0</td>\n    </tr>\n    <tr>\n      <th>2</th>\n      <td>bangalore</td>\n      <td>30</td>\n      <td>75.0</td>\n    </tr>\n    <tr>\n      <th>3</th>\n      <td>hyderabad</td>\n      <td>40</td>\n      <td>NaN</td>\n    </tr>\n  </tbody>\n</table>\n</div>"
     },
     "metadata": {},
     "execution_count": 27
    }
   ],
   "source": [
    "#outer join, shows values of both tables, where value not found it says NaN\n",
    "df = pd.merge(temperature_df, humidity_df, how=\"outer\")\n",
    "df"
   ]
  },
  {
   "cell_type": "code",
   "execution_count": 28,
   "metadata": {},
   "outputs": [
    {
     "output_type": "execute_result",
     "data": {
      "text/plain": [
       "        city  temperature  humidity\n",
       "0     mumbai           32        68\n",
       "1      delhi           45        65\n",
       "2  bangalore           30        75"
      ],
      "text/html": "<div>\n<style scoped>\n    .dataframe tbody tr th:only-of-type {\n        vertical-align: middle;\n    }\n\n    .dataframe tbody tr th {\n        vertical-align: top;\n    }\n\n    .dataframe thead th {\n        text-align: right;\n    }\n</style>\n<table border=\"1\" class=\"dataframe\">\n  <thead>\n    <tr style=\"text-align: right;\">\n      <th></th>\n      <th>city</th>\n      <th>temperature</th>\n      <th>humidity</th>\n    </tr>\n  </thead>\n  <tbody>\n    <tr>\n      <th>0</th>\n      <td>mumbai</td>\n      <td>32</td>\n      <td>68</td>\n    </tr>\n    <tr>\n      <th>1</th>\n      <td>delhi</td>\n      <td>45</td>\n      <td>65</td>\n    </tr>\n    <tr>\n      <th>2</th>\n      <td>bangalore</td>\n      <td>30</td>\n      <td>75</td>\n    </tr>\n  </tbody>\n</table>\n</div>"
     },
     "metadata": {},
     "execution_count": 28
    }
   ],
   "source": [
    "#inner join (only common city names in both tables)\n",
    "df = pd.merge(temperature_df, humidity_df, how=\"inner\")\n",
    "df"
   ]
  },
  {
   "cell_type": "code",
   "execution_count": 29,
   "metadata": {},
   "outputs": [
    {
     "output_type": "execute_result",
     "data": {
      "text/plain": [
       "        city  temperature  humidity\n",
       "0     mumbai           32      68.0\n",
       "1      delhi           45      65.0\n",
       "2  bangalore           30      75.0\n",
       "3  hyderabad           40       NaN"
      ],
      "text/html": "<div>\n<style scoped>\n    .dataframe tbody tr th:only-of-type {\n        vertical-align: middle;\n    }\n\n    .dataframe tbody tr th {\n        vertical-align: top;\n    }\n\n    .dataframe thead th {\n        text-align: right;\n    }\n</style>\n<table border=\"1\" class=\"dataframe\">\n  <thead>\n    <tr style=\"text-align: right;\">\n      <th></th>\n      <th>city</th>\n      <th>temperature</th>\n      <th>humidity</th>\n    </tr>\n  </thead>\n  <tbody>\n    <tr>\n      <th>0</th>\n      <td>mumbai</td>\n      <td>32</td>\n      <td>68.0</td>\n    </tr>\n    <tr>\n      <th>1</th>\n      <td>delhi</td>\n      <td>45</td>\n      <td>65.0</td>\n    </tr>\n    <tr>\n      <th>2</th>\n      <td>bangalore</td>\n      <td>30</td>\n      <td>75.0</td>\n    </tr>\n    <tr>\n      <th>3</th>\n      <td>hyderabad</td>\n      <td>40</td>\n      <td>NaN</td>\n    </tr>\n  </tbody>\n</table>\n</div>"
     },
     "metadata": {},
     "execution_count": 29
    }
   ],
   "source": [
    "#left join\n",
    "df = pd.merge(temperature_df, humidity_df, how=\"left\")\n",
    "df"
   ]
  },
  {
   "cell_type": "code",
   "execution_count": 30,
   "metadata": {},
   "outputs": [
    {
     "output_type": "execute_result",
     "data": {
      "text/plain": [
       "        city  temperature  humidity\n",
       "0     mumbai           32        68\n",
       "1      delhi           45        65\n",
       "2  bangalore           30        75"
      ],
      "text/html": "<div>\n<style scoped>\n    .dataframe tbody tr th:only-of-type {\n        vertical-align: middle;\n    }\n\n    .dataframe tbody tr th {\n        vertical-align: top;\n    }\n\n    .dataframe thead th {\n        text-align: right;\n    }\n</style>\n<table border=\"1\" class=\"dataframe\">\n  <thead>\n    <tr style=\"text-align: right;\">\n      <th></th>\n      <th>city</th>\n      <th>temperature</th>\n      <th>humidity</th>\n    </tr>\n  </thead>\n  <tbody>\n    <tr>\n      <th>0</th>\n      <td>mumbai</td>\n      <td>32</td>\n      <td>68</td>\n    </tr>\n    <tr>\n      <th>1</th>\n      <td>delhi</td>\n      <td>45</td>\n      <td>65</td>\n    </tr>\n    <tr>\n      <th>2</th>\n      <td>bangalore</td>\n      <td>30</td>\n      <td>75</td>\n    </tr>\n  </tbody>\n</table>\n</div>"
     },
     "metadata": {},
     "execution_count": 30
    }
   ],
   "source": [
    "#right join\n",
    "df = pd.merge(temperature_df, humidity_df, how=\"right\")\n",
    "df"
   ]
  },
  {
   "cell_type": "code",
   "execution_count": 31,
   "metadata": {},
   "outputs": [],
   "source": [
    "#Numerical Indexing(loc (location) vs iloc(index location))\n",
    "#loc uses index to fetch data: index can be default or custom generated\n",
    "#iloc uses row no to fetch data: rows always start from 0\n",
    "#by default index=row no, therefore loc and iloc will give the same result"
   ]
  },
  {
   "cell_type": "code",
   "execution_count": 32,
   "metadata": {},
   "outputs": [
    {
     "output_type": "execute_result",
     "data": {
      "text/plain": [
       "    0\n",
       "0   1\n",
       "1   2\n",
       "2   3\n",
       "3   4\n",
       "4   5\n",
       "5   6\n",
       "6   7\n",
       "7   8\n",
       "8   9\n",
       "9  19"
      ],
      "text/html": "<div>\n<style scoped>\n    .dataframe tbody tr th:only-of-type {\n        vertical-align: middle;\n    }\n\n    .dataframe tbody tr th {\n        vertical-align: top;\n    }\n\n    .dataframe thead th {\n        text-align: right;\n    }\n</style>\n<table border=\"1\" class=\"dataframe\">\n  <thead>\n    <tr style=\"text-align: right;\">\n      <th></th>\n      <th>0</th>\n    </tr>\n  </thead>\n  <tbody>\n    <tr>\n      <th>0</th>\n      <td>1</td>\n    </tr>\n    <tr>\n      <th>1</th>\n      <td>2</td>\n    </tr>\n    <tr>\n      <th>2</th>\n      <td>3</td>\n    </tr>\n    <tr>\n      <th>3</th>\n      <td>4</td>\n    </tr>\n    <tr>\n      <th>4</th>\n      <td>5</td>\n    </tr>\n    <tr>\n      <th>5</th>\n      <td>6</td>\n    </tr>\n    <tr>\n      <th>6</th>\n      <td>7</td>\n    </tr>\n    <tr>\n      <th>7</th>\n      <td>8</td>\n    </tr>\n    <tr>\n      <th>8</th>\n      <td>9</td>\n    </tr>\n    <tr>\n      <th>9</th>\n      <td>19</td>\n    </tr>\n  </tbody>\n</table>\n</div>"
     },
     "metadata": {},
     "execution_count": 32
    }
   ],
   "source": [
    "df = pd.DataFrame([1,2,3,4,5,6,7,8,9,19])#using default index\n",
    "df"
   ]
  },
  {
   "cell_type": "code",
   "execution_count": 33,
   "metadata": {},
   "outputs": [
    {
     "output_type": "execute_result",
     "data": {
      "text/plain": [
       "     0\n",
       "49   1\n",
       "48   2\n",
       "47   3\n",
       "46   4\n",
       "45   5\n",
       "1    6\n",
       "2    7\n",
       "3    8\n",
       "4    9\n",
       "5   19"
      ],
      "text/html": "<div>\n<style scoped>\n    .dataframe tbody tr th:only-of-type {\n        vertical-align: middle;\n    }\n\n    .dataframe tbody tr th {\n        vertical-align: top;\n    }\n\n    .dataframe thead th {\n        text-align: right;\n    }\n</style>\n<table border=\"1\" class=\"dataframe\">\n  <thead>\n    <tr style=\"text-align: right;\">\n      <th></th>\n      <th>0</th>\n    </tr>\n  </thead>\n  <tbody>\n    <tr>\n      <th>49</th>\n      <td>1</td>\n    </tr>\n    <tr>\n      <th>48</th>\n      <td>2</td>\n    </tr>\n    <tr>\n      <th>47</th>\n      <td>3</td>\n    </tr>\n    <tr>\n      <th>46</th>\n      <td>4</td>\n    </tr>\n    <tr>\n      <th>45</th>\n      <td>5</td>\n    </tr>\n    <tr>\n      <th>1</th>\n      <td>6</td>\n    </tr>\n    <tr>\n      <th>2</th>\n      <td>7</td>\n    </tr>\n    <tr>\n      <th>3</th>\n      <td>8</td>\n    </tr>\n    <tr>\n      <th>4</th>\n      <td>9</td>\n    </tr>\n    <tr>\n      <th>5</th>\n      <td>19</td>\n    </tr>\n  </tbody>\n</table>\n</div>"
     },
     "metadata": {},
     "execution_count": 33
    }
   ],
   "source": [
    "df = pd.DataFrame([1,2,3,4,5,6,7,8,9,19], index=[49,48,47,46,45,1,2,3,4,5]) #creating our own index\n",
    "df"
   ]
  },
  {
   "cell_type": "code",
   "execution_count": null,
   "metadata": {},
   "outputs": [],
   "source": [
    "#Two ways to access custom indexed data\n",
    "1. get the data which has the index 46\n",
    "2. get the data whose row number is 3"
   ]
  },
  {
   "cell_type": "code",
   "execution_count": 35,
   "metadata": {},
   "outputs": [
    {
     "output_type": "execute_result",
     "data": {
      "text/plain": [
       "0    4\n",
       "Name: 46, dtype: int64"
      ]
     },
     "metadata": {},
     "execution_count": 35
    }
   ],
   "source": [
    "df.loc[46] #using index to access data"
   ]
  },
  {
   "cell_type": "code",
   "execution_count": 38,
   "metadata": {},
   "outputs": [
    {
     "output_type": "execute_result",
     "data": {
      "text/plain": [
       "0    4\n",
       "Name: 46, dtype: int64"
      ]
     },
     "metadata": {},
     "execution_count": 38
    }
   ],
   "source": [
    "df.iloc[3] #using row no to access data"
   ]
  },
  {
   "cell_type": "code",
   "execution_count": 39,
   "metadata": {},
   "outputs": [
    {
     "output_type": "execute_result",
     "data": {
      "text/plain": [
       "0    5\n",
       "Name: 45, dtype: int64"
      ]
     },
     "metadata": {},
     "execution_count": 39
    }
   ],
   "source": [
    "df.loc[45]"
   ]
  },
  {
   "cell_type": "code",
   "execution_count": 40,
   "metadata": {},
   "outputs": [
    {
     "output_type": "error",
     "ename": "IndexError",
     "evalue": "single positional indexer is out-of-bounds",
     "traceback": [
      "\u001b[1;31m---------------------------------------------------------------------------\u001b[0m",
      "\u001b[1;31mIndexError\u001b[0m                                Traceback (most recent call last)",
      "\u001b[1;32m<ipython-input-40-55867d6731c3>\u001b[0m in \u001b[0;36m<module>\u001b[1;34m\u001b[0m\n\u001b[1;32m----> 1\u001b[1;33m \u001b[0mdf\u001b[0m\u001b[1;33m.\u001b[0m\u001b[0miloc\u001b[0m\u001b[1;33m[\u001b[0m\u001b[1;36m45\u001b[0m\u001b[1;33m]\u001b[0m\u001b[1;33m\u001b[0m\u001b[1;33m\u001b[0m\u001b[0m\n\u001b[0m",
      "\u001b[1;32m~\\anaconda3\\lib\\site-packages\\pandas\\core\\indexing.py\u001b[0m in \u001b[0;36m__getitem__\u001b[1;34m(self, key)\u001b[0m\n\u001b[0;32m    877\u001b[0m \u001b[1;33m\u001b[0m\u001b[0m\n\u001b[0;32m    878\u001b[0m             \u001b[0mmaybe_callable\u001b[0m \u001b[1;33m=\u001b[0m \u001b[0mcom\u001b[0m\u001b[1;33m.\u001b[0m\u001b[0mapply_if_callable\u001b[0m\u001b[1;33m(\u001b[0m\u001b[0mkey\u001b[0m\u001b[1;33m,\u001b[0m \u001b[0mself\u001b[0m\u001b[1;33m.\u001b[0m\u001b[0mobj\u001b[0m\u001b[1;33m)\u001b[0m\u001b[1;33m\u001b[0m\u001b[1;33m\u001b[0m\u001b[0m\n\u001b[1;32m--> 879\u001b[1;33m             \u001b[1;32mreturn\u001b[0m \u001b[0mself\u001b[0m\u001b[1;33m.\u001b[0m\u001b[0m_getitem_axis\u001b[0m\u001b[1;33m(\u001b[0m\u001b[0mmaybe_callable\u001b[0m\u001b[1;33m,\u001b[0m \u001b[0maxis\u001b[0m\u001b[1;33m=\u001b[0m\u001b[0maxis\u001b[0m\u001b[1;33m)\u001b[0m\u001b[1;33m\u001b[0m\u001b[1;33m\u001b[0m\u001b[0m\n\u001b[0m\u001b[0;32m    880\u001b[0m \u001b[1;33m\u001b[0m\u001b[0m\n\u001b[0;32m    881\u001b[0m     \u001b[1;32mdef\u001b[0m \u001b[0m_is_scalar_access\u001b[0m\u001b[1;33m(\u001b[0m\u001b[0mself\u001b[0m\u001b[1;33m,\u001b[0m \u001b[0mkey\u001b[0m\u001b[1;33m:\u001b[0m \u001b[0mTuple\u001b[0m\u001b[1;33m)\u001b[0m\u001b[1;33m:\u001b[0m\u001b[1;33m\u001b[0m\u001b[1;33m\u001b[0m\u001b[0m\n",
      "\u001b[1;32m~\\anaconda3\\lib\\site-packages\\pandas\\core\\indexing.py\u001b[0m in \u001b[0;36m_getitem_axis\u001b[1;34m(self, key, axis)\u001b[0m\n\u001b[0;32m   1494\u001b[0m \u001b[1;33m\u001b[0m\u001b[0m\n\u001b[0;32m   1495\u001b[0m             \u001b[1;31m# validate the location\u001b[0m\u001b[1;33m\u001b[0m\u001b[1;33m\u001b[0m\u001b[1;33m\u001b[0m\u001b[0m\n\u001b[1;32m-> 1496\u001b[1;33m             \u001b[0mself\u001b[0m\u001b[1;33m.\u001b[0m\u001b[0m_validate_integer\u001b[0m\u001b[1;33m(\u001b[0m\u001b[0mkey\u001b[0m\u001b[1;33m,\u001b[0m \u001b[0maxis\u001b[0m\u001b[1;33m)\u001b[0m\u001b[1;33m\u001b[0m\u001b[1;33m\u001b[0m\u001b[0m\n\u001b[0m\u001b[0;32m   1497\u001b[0m \u001b[1;33m\u001b[0m\u001b[0m\n\u001b[0;32m   1498\u001b[0m             \u001b[1;32mreturn\u001b[0m \u001b[0mself\u001b[0m\u001b[1;33m.\u001b[0m\u001b[0mobj\u001b[0m\u001b[1;33m.\u001b[0m\u001b[0m_ixs\u001b[0m\u001b[1;33m(\u001b[0m\u001b[0mkey\u001b[0m\u001b[1;33m,\u001b[0m \u001b[0maxis\u001b[0m\u001b[1;33m=\u001b[0m\u001b[0maxis\u001b[0m\u001b[1;33m)\u001b[0m\u001b[1;33m\u001b[0m\u001b[1;33m\u001b[0m\u001b[0m\n",
      "\u001b[1;32m~\\anaconda3\\lib\\site-packages\\pandas\\core\\indexing.py\u001b[0m in \u001b[0;36m_validate_integer\u001b[1;34m(self, key, axis)\u001b[0m\n\u001b[0;32m   1435\u001b[0m         \u001b[0mlen_axis\u001b[0m \u001b[1;33m=\u001b[0m \u001b[0mlen\u001b[0m\u001b[1;33m(\u001b[0m\u001b[0mself\u001b[0m\u001b[1;33m.\u001b[0m\u001b[0mobj\u001b[0m\u001b[1;33m.\u001b[0m\u001b[0m_get_axis\u001b[0m\u001b[1;33m(\u001b[0m\u001b[0maxis\u001b[0m\u001b[1;33m)\u001b[0m\u001b[1;33m)\u001b[0m\u001b[1;33m\u001b[0m\u001b[1;33m\u001b[0m\u001b[0m\n\u001b[0;32m   1436\u001b[0m         \u001b[1;32mif\u001b[0m \u001b[0mkey\u001b[0m \u001b[1;33m>=\u001b[0m \u001b[0mlen_axis\u001b[0m \u001b[1;32mor\u001b[0m \u001b[0mkey\u001b[0m \u001b[1;33m<\u001b[0m \u001b[1;33m-\u001b[0m\u001b[0mlen_axis\u001b[0m\u001b[1;33m:\u001b[0m\u001b[1;33m\u001b[0m\u001b[1;33m\u001b[0m\u001b[0m\n\u001b[1;32m-> 1437\u001b[1;33m             \u001b[1;32mraise\u001b[0m \u001b[0mIndexError\u001b[0m\u001b[1;33m(\u001b[0m\u001b[1;34m\"single positional indexer is out-of-bounds\"\u001b[0m\u001b[1;33m)\u001b[0m\u001b[1;33m\u001b[0m\u001b[1;33m\u001b[0m\u001b[0m\n\u001b[0m\u001b[0;32m   1438\u001b[0m \u001b[1;33m\u001b[0m\u001b[0m\n\u001b[0;32m   1439\u001b[0m     \u001b[1;31m# -------------------------------------------------------------------\u001b[0m\u001b[1;33m\u001b[0m\u001b[1;33m\u001b[0m\u001b[1;33m\u001b[0m\u001b[0m\n",
      "\u001b[1;31mIndexError\u001b[0m: single positional indexer is out-of-bounds"
     ]
    }
   ],
   "source": [
    "df.iloc[45]"
   ]
  },
  {
   "cell_type": "code",
   "execution_count": 41,
   "metadata": {},
   "outputs": [
    {
     "output_type": "execute_result",
     "data": {
      "text/plain": [
       "    0\n",
       "49  1\n",
       "48  2\n",
       "47  3\n",
       "46  4\n",
       "45  5\n",
       "1   6\n",
       "2   7"
      ],
      "text/html": "<div>\n<style scoped>\n    .dataframe tbody tr th:only-of-type {\n        vertical-align: middle;\n    }\n\n    .dataframe tbody tr th {\n        vertical-align: top;\n    }\n\n    .dataframe thead th {\n        text-align: right;\n    }\n</style>\n<table border=\"1\" class=\"dataframe\">\n  <thead>\n    <tr style=\"text-align: right;\">\n      <th></th>\n      <th>0</th>\n    </tr>\n  </thead>\n  <tbody>\n    <tr>\n      <th>49</th>\n      <td>1</td>\n    </tr>\n    <tr>\n      <th>48</th>\n      <td>2</td>\n    </tr>\n    <tr>\n      <th>47</th>\n      <td>3</td>\n    </tr>\n    <tr>\n      <th>46</th>\n      <td>4</td>\n    </tr>\n    <tr>\n      <th>45</th>\n      <td>5</td>\n    </tr>\n    <tr>\n      <th>1</th>\n      <td>6</td>\n    </tr>\n    <tr>\n      <th>2</th>\n      <td>7</td>\n    </tr>\n  </tbody>\n</table>\n</div>"
     },
     "metadata": {},
     "execution_count": 41
    }
   ],
   "source": [
    "df.loc[:2]  #get all of the rows till index 2, goes line by line"
   ]
  },
  {
   "cell_type": "code",
   "execution_count": 42,
   "metadata": {},
   "outputs": [
    {
     "output_type": "execute_result",
     "data": {
      "text/plain": [
       "    0\n",
       "49  1\n",
       "48  2"
      ],
      "text/html": "<div>\n<style scoped>\n    .dataframe tbody tr th:only-of-type {\n        vertical-align: middle;\n    }\n\n    .dataframe tbody tr th {\n        vertical-align: top;\n    }\n\n    .dataframe thead th {\n        text-align: right;\n    }\n</style>\n<table border=\"1\" class=\"dataframe\">\n  <thead>\n    <tr style=\"text-align: right;\">\n      <th></th>\n      <th>0</th>\n    </tr>\n  </thead>\n  <tbody>\n    <tr>\n      <th>49</th>\n      <td>1</td>\n    </tr>\n    <tr>\n      <th>48</th>\n      <td>2</td>\n    </tr>\n  </tbody>\n</table>\n</div>"
     },
     "metadata": {},
     "execution_count": 42
    }
   ],
   "source": [
    "df.iloc[:2] #get rows upto 2 ie 0th and 1st row"
   ]
  }
 ]
}