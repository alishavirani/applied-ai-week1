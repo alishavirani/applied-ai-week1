{
 "metadata": {
  "language_info": {
   "codemirror_mode": {
    "name": "ipython",
    "version": 3
   },
   "file_extension": ".py",
   "mimetype": "text/x-python",
   "name": "python",
   "nbconvert_exporter": "python",
   "pygments_lexer": "ipython3",
   "version": "3.8.5-final"
  },
  "orig_nbformat": 2,
  "kernelspec": {
   "name": "python3",
   "display_name": "Python 3",
   "language": "python"
  }
 },
 "nbformat": 4,
 "nbformat_minor": 2,
 "cells": [
  {
   "cell_type": "code",
   "execution_count": 1,
   "metadata": {},
   "outputs": [],
   "source": [
    "#Space and Time Complexity measures/quantifies how much time and space a program/algorithm/solution takes"
   ]
  },
  {
   "cell_type": "code",
   "execution_count": 2,
   "metadata": {},
   "outputs": [],
   "source": [
    "#refer images 8.1 - 1,2,3"
   ]
  },
  {
   "cell_type": "code",
   "execution_count": 3,
   "metadata": {},
   "outputs": [
    {
     "output_type": "execute_result",
     "data": {
      "text/plain": [
       "[4,\n",
       " 91,\n",
       " 63,\n",
       " 70,\n",
       " 16,\n",
       " 82,\n",
       " 32,\n",
       " 81,\n",
       " 15,\n",
       " 53,\n",
       " 50,\n",
       " 17,\n",
       " 67,\n",
       " 69,\n",
       " 56,\n",
       " 62,\n",
       " 7,\n",
       " 42,\n",
       " 44,\n",
       " 13,\n",
       " 2,\n",
       " 68,\n",
       " 27,\n",
       " 98,\n",
       " 21,\n",
       " 55,\n",
       " 23,\n",
       " 3,\n",
       " 93,\n",
       " 5,\n",
       " 6,\n",
       " 46,\n",
       " 74,\n",
       " 89,\n",
       " 72,\n",
       " 39,\n",
       " 36,\n",
       " 59,\n",
       " 12,\n",
       " 54,\n",
       " 51,\n",
       " 11,\n",
       " 28,\n",
       " 31,\n",
       " 64,\n",
       " 29,\n",
       " 83,\n",
       " 47,\n",
       " 14,\n",
       " 80,\n",
       " 58,\n",
       " 24,\n",
       " 48,\n",
       " 61,\n",
       " 49,\n",
       " 57,\n",
       " 66,\n",
       " 30,\n",
       " 71,\n",
       " 40,\n",
       " 77,\n",
       " 73,\n",
       " 10,\n",
       " 60,\n",
       " 0,\n",
       " 26,\n",
       " 35,\n",
       " 1,\n",
       " 65,\n",
       " 75,\n",
       " 84,\n",
       " 22,\n",
       " 34,\n",
       " 96,\n",
       " 43,\n",
       " 95,\n",
       " 87,\n",
       " 45,\n",
       " 41,\n",
       " 37,\n",
       " 97,\n",
       " 85,\n",
       " 8,\n",
       " 78,\n",
       " 76,\n",
       " 38,\n",
       " 19,\n",
       " 86,\n",
       " 79,\n",
       " 92,\n",
       " 88,\n",
       " 52,\n",
       " 99,\n",
       " 25,\n",
       " 18,\n",
       " 33,\n",
       " 94,\n",
       " 90,\n",
       " 20,\n",
       " 9]"
      ]
     },
     "metadata": {},
     "execution_count": 3
    }
   ],
   "source": [
    "import numpy as np\n",
    "import random\n",
    "\n",
    "l = list(range(100))\n",
    "random.shuffle(l)\n",
    "\n",
    "l #randomly shuffled list"
   ]
  },
  {
   "cell_type": "code",
   "execution_count": 10,
   "metadata": {},
   "outputs": [
    {
     "output_type": "stream",
     "name": "stdout",
     "text": [
      "Found\n"
     ]
    }
   ],
   "source": [
    "#search for an element in the list\n",
    "#time complexity=O(n), space complexity=O(1) where n is the length of the list\n",
    "#refer 8.1 image 4,5\n",
    "\n",
    "q = 13\n",
    "found = False\n",
    "\n",
    "for el in l:\n",
    "    if el == q:\n",
    "        print(\"Found\")\n",
    "        found = True\n",
    "        break\n",
    "if found == False:\n",
    "    print(\"Not Found\")"
   ]
  },
  {
   "cell_type": "code",
   "execution_count": null,
   "metadata": {},
   "outputs": [],
   "source": [
    "#Refer image 8.1 image 6,7"
   ]
  }
 ]
}