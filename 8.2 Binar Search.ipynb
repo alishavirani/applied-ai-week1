{
 "metadata": {
  "language_info": {
   "codemirror_mode": {
    "name": "ipython",
    "version": 3
   },
   "file_extension": ".py",
   "mimetype": "text/x-python",
   "name": "python",
   "nbconvert_exporter": "python",
   "pygments_lexer": "ipython3",
   "version": "3.8.5-final"
  },
  "orig_nbformat": 2,
  "kernelspec": {
   "name": "python3",
   "display_name": "Python 3",
   "language": "python"
  }
 },
 "nbformat": 4,
 "nbformat_minor": 2,
 "cells": [
  {
   "cell_type": "code",
   "execution_count": 1,
   "metadata": {},
   "outputs": [],
   "source": [
    "#Refer image 8.2 Image 1,2,3,4,5"
   ]
  },
  {
   "cell_type": "code",
   "execution_count": 3,
   "metadata": {},
   "outputs": [
    {
     "output_type": "execute_result",
     "data": {
      "text/plain": [
       "-1"
      ]
     },
     "metadata": {},
     "execution_count": 3
    }
   ],
   "source": [
    "import math\n",
    "import numpy as np\n",
    "import random\n",
    "\n",
    "#returns index of x in arr if present, else returns -1\n",
    "def binarySearch(arr, l, r, x):\n",
    "\n",
    "    #check base/boundary case\n",
    "    if r >= l:\n",
    "        mid = l + math.floor((r-l)/2)\n",
    "\n",
    "        #if element is present in the middle\n",
    "        if arr[mid] == x:\n",
    "            return mid\n",
    "\n",
    "        #if element is samller than mid, then it will be present in the left subarray\n",
    "        if arr[mid] > x:\n",
    "            return binarySearch(arr, l, mid-1, x)\n",
    "        #else the element can only be present in the right subarray\n",
    "        else:\n",
    "            return binarySearch(arr, mid+1, r, x)\n",
    "    else:\n",
    "        #element not present in the array\n",
    "        return -1\n",
    "\n",
    "arr = list(range(100))\n",
    "random.shuffle(arr)\n",
    "arr.sort()\n",
    "q = 131\n",
    "binarySearch(arr, 0, len(arr)-1, q)\n"
   ]
  },
  {
   "cell_type": "code",
   "execution_count": null,
   "metadata": {},
   "outputs": [],
   "source": []
  }
 ]
}