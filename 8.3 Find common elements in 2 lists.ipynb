{
 "metadata": {
  "language_info": {
   "codemirror_mode": {
    "name": "ipython",
    "version": 3
   },
   "file_extension": ".py",
   "mimetype": "text/x-python",
   "name": "python",
   "nbconvert_exporter": "python",
   "pygments_lexer": "ipython3",
   "version": "3.8.5-final"
  },
  "orig_nbformat": 2,
  "kernelspec": {
   "name": "python3",
   "display_name": "Python 3",
   "language": "python"
  }
 },
 "nbformat": 4,
 "nbformat_minor": 2,
 "cells": [
  {
   "cell_type": "code",
   "execution_count": 1,
   "metadata": {},
   "outputs": [],
   "source": [
    "#refer image 8.3"
   ]
  },
  {
   "cell_type": "code",
   "execution_count": 2,
   "metadata": {},
   "outputs": [
    {
     "output_type": "stream",
     "name": "stdout",
     "text": [
      "15\n38\n24\n3\n1\n48\n7\n5\n12\n39\n2\n17\n4\n16\n0\n43\n37\n45\n36\n18\n35\n8\n29\n47\n10\n20\n11\n34\n13\n21\n44\n22\n49\n40\n46\n27\n30\n14\n19\n26\n41\n31\n23\n32\n42\n6\n33\n25\n28\n9\nNo. of Common elements 50\n"
     ]
    }
   ],
   "source": [
    "#find elements common in 2 lists\n",
    "import random\n",
    "\n",
    "l1 = list(range(1000)) #n elements\n",
    "random.shuffle(l1)\n",
    "\n",
    "l2 = list(range(50)) #m elements\n",
    "random.shuffle(l2)\n",
    "\n",
    "#find common elements : O(n*m)\n",
    "count = 0\n",
    "for i in l1:\n",
    "    for j in l2:\n",
    "        if i == j:\n",
    "            print(i)\n",
    "            count += 1\n",
    "\n",
    "print(\"No. of Common elements\", count)"
   ]
  }
 ]
}