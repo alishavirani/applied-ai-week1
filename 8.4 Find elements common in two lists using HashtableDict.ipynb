{
 "metadata": {
  "language_info": {
   "codemirror_mode": {
    "name": "ipython",
    "version": 3
   },
   "file_extension": ".py",
   "mimetype": "text/x-python",
   "name": "python",
   "nbconvert_exporter": "python",
   "pygments_lexer": "ipython3",
   "version": "3.8.5-final"
  },
  "orig_nbformat": 2,
  "kernelspec": {
   "name": "python3",
   "display_name": "Python 3",
   "language": "python"
  }
 },
 "nbformat": 4,
 "nbformat_minor": 2,
 "cells": [
  {
   "cell_type": "code",
   "execution_count": 1,
   "metadata": {},
   "outputs": [],
   "source": [
    "#Refer 8.4 image 1,2,3"
   ]
  },
  {
   "cell_type": "code",
   "execution_count": 2,
   "metadata": {},
   "outputs": [
    {
     "output_type": "stream",
     "name": "stdout",
     "text": [
      "0\n13\n46\n18\n10\n17\n27\n40\n5\n20\n22\n30\n8\n11\n44\n12\n2\n31\n19\n21\n26\n14\n9\n43\n47\n36\n32\n25\n15\n49\n4\n16\n28\n3\n33\n35\n34\n41\n6\n45\n1\n24\n7\n42\n48\n39\n37\n23\n38\n29\nno of common elements 50\n"
     ]
    }
   ],
   "source": [
    "#find common elements in 2 lists using dict\n",
    "import random\n",
    "\n",
    "l1 = list(range(100)) #n elements\n",
    "random.shuffle(l1)\n",
    "\n",
    "l2 = list(range(50)) #m elements\n",
    "random.shuffle(l2)\n",
    "\n",
    "#find common elements in O(m + n) time and O(m) space if m < n\n",
    "\n",
    "#add all elements of l2 (small list) into a dict which will take O(m) space and O(m)time to find m elements\n",
    "smallList = {}\n",
    "for el in l2:\n",
    "    smallList[el] = 1 #any value is ok, key is important\n",
    "\n",
    "#find common elements\n",
    "count = 0\n",
    "for i in l1:\n",
    "    if smallList.get(i) != None: #search operation in l1 takes 1 unit of time, to get n elements, it will take n units of time, therefore space complexity is O(n)\n",
    "        print(i)\n",
    "        count += 1\n",
    "\n",
    "print(\"no of common elements\", count)\n"
   ]
  },
  {
   "cell_type": "code",
   "execution_count": null,
   "metadata": {},
   "outputs": [],
   "source": [
    "#total space complexity = O(m)\n",
    "#total time complexity = O(m + n)"
   ]
  }
 ]
}